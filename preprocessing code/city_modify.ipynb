{
  "nbformat": 4,
  "nbformat_minor": 0,
  "metadata": {
    "colab": {
      "name": "city_modify.ipynb",
      "provenance": [],
      "collapsed_sections": []
    },
    "kernelspec": {
      "name": "python3",
      "display_name": "Python 3"
    },
    "language_info": {
      "name": "python"
    }
  },
  "cells": [
    {
      "cell_type": "code",
      "metadata": {
        "id": "-06vI9O1nNuP"
      },
      "source": [
        "import pandas as pd\n",
        "import numpy as np\n",
        "from tqdm import tqdm"
      ],
      "execution_count": 1,
      "outputs": []
    },
    {
      "cell_type": "code",
      "metadata": {
        "colab": {
          "base_uri": "https://localhost:8080/"
        },
        "id": "5y6xAV5wiqSt",
        "outputId": "aa138d0e-2895-4f1e-82ab-9c6d1015d533"
      },
      "source": [
        "from google.colab import drive\n",
        "drive.mount('/content/drive')"
      ],
      "execution_count": 24,
      "outputs": [
        {
          "output_type": "stream",
          "text": [
            "Drive already mounted at /content/drive; to attempt to forcibly remount, call drive.mount(\"/content/drive\", force_remount=True).\n"
          ],
          "name": "stdout"
        }
      ]
    },
    {
      "cell_type": "code",
      "metadata": {
        "id": "hOY90Vp0nO2u"
      },
      "source": [
        "df = pd.read_csv(\"https://raw.githubusercontent.com/Dongguk-DataScience/Data_Science/main/ready_to_use_data/tourspot.csv\")"
      ],
      "execution_count": 25,
      "outputs": []
    },
    {
      "cell_type": "code",
      "metadata": {
        "colab": {
          "base_uri": "https://localhost:8080/",
          "height": 419
        },
        "id": "vu7TjTBynVTU",
        "outputId": "7fa2c810-2182-412c-ff88-7cf433cc25c4"
      },
      "source": [
        "df"
      ],
      "execution_count": 26,
      "outputs": [
        {
          "output_type": "execute_result",
          "data": {
            "text/html": [
              "<div>\n",
              "<style scoped>\n",
              "    .dataframe tbody tr th:only-of-type {\n",
              "        vertical-align: middle;\n",
              "    }\n",
              "\n",
              "    .dataframe tbody tr th {\n",
              "        vertical-align: top;\n",
              "    }\n",
              "\n",
              "    .dataframe thead th {\n",
              "        text-align: right;\n",
              "    }\n",
              "</style>\n",
              "<table border=\"1\" class=\"dataframe\">\n",
              "  <thead>\n",
              "    <tr style=\"text-align: right;\">\n",
              "      <th></th>\n",
              "      <th>관광유형</th>\n",
              "      <th>명칭</th>\n",
              "      <th>우편번호</th>\n",
              "      <th>주소</th>\n",
              "      <th>도시</th>\n",
              "      <th>위도</th>\n",
              "      <th>경도</th>\n",
              "    </tr>\n",
              "  </thead>\n",
              "  <tbody>\n",
              "    <tr>\n",
              "      <th>0</th>\n",
              "      <td>관광지</td>\n",
              "      <td>쉰움산</td>\n",
              "      <td>25746</td>\n",
              "      <td>강원도 동해시 삼화로 584\\n\\t\\t\\t</td>\n",
              "      <td>강원도 동해시</td>\n",
              "      <td>37.455194</td>\n",
              "      <td>129.001569</td>\n",
              "    </tr>\n",
              "    <tr>\n",
              "      <th>1</th>\n",
              "      <td>관광지</td>\n",
              "      <td>대진 등대</td>\n",
              "      <td>24703</td>\n",
              "      <td>강원도 고성군 현내면 한나루로4길 16-38\\n\\t\\t\\t</td>\n",
              "      <td>강원도 고성군</td>\n",
              "      <td>38.503780</td>\n",
              "      <td>128.428794</td>\n",
              "    </tr>\n",
              "    <tr>\n",
              "      <th>2</th>\n",
              "      <td>관광지</td>\n",
              "      <td>감자꽃 스튜디오</td>\n",
              "      <td>25370</td>\n",
              "      <td>강원도 평창군 평창읍 고길천로 105\\n\\t\\t\\t</td>\n",
              "      <td>강원도 평창군</td>\n",
              "      <td>37.368851</td>\n",
              "      <td>128.438881</td>\n",
              "    </tr>\n",
              "    <tr>\n",
              "      <th>3</th>\n",
              "      <td>관광지</td>\n",
              "      <td>하평해변(강릉)</td>\n",
              "      <td>25435</td>\n",
              "      <td>강원도 강릉시 사천면 진리해변길 155\\n\\t\\t\\t</td>\n",
              "      <td>강원도 강릉시</td>\n",
              "      <td>37.844282</td>\n",
              "      <td>128.871922</td>\n",
              "    </tr>\n",
              "    <tr>\n",
              "      <th>4</th>\n",
              "      <td>관광지</td>\n",
              "      <td>기미만세공원</td>\n",
              "      <td>25162</td>\n",
              "      <td>강원도 홍천군 내촌면 물걸리\\n\\t\\t\\t</td>\n",
              "      <td>강원도 홍천군</td>\n",
              "      <td>37.784525</td>\n",
              "      <td>128.146392</td>\n",
              "    </tr>\n",
              "    <tr>\n",
              "      <th>...</th>\n",
              "      <td>...</td>\n",
              "      <td>...</td>\n",
              "      <td>...</td>\n",
              "      <td>...</td>\n",
              "      <td>...</td>\n",
              "      <td>...</td>\n",
              "      <td>...</td>\n",
              "    </tr>\n",
              "    <tr>\n",
              "      <th>22547</th>\n",
              "      <td>축제공연</td>\n",
              "      <td>청원생명축제</td>\n",
              "      <td>28107</td>\n",
              "      <td>충청북도 청주시 청원구 오창읍 미래지로 99\\n\\t\\t\\t</td>\n",
              "      <td>충청북도 청주시 청원구</td>\n",
              "      <td>36.733250</td>\n",
              "      <td>127.407383</td>\n",
              "    </tr>\n",
              "    <tr>\n",
              "      <th>22548</th>\n",
              "      <td>축제공연</td>\n",
              "      <td>충주국제무예액션영화제 2020</td>\n",
              "      <td>27438</td>\n",
              "      <td>충청북도 충주시 남한강로 24(금릉동)</td>\n",
              "      <td>충청북도 충주시</td>\n",
              "      <td>36.987880</td>\n",
              "      <td>127.905593</td>\n",
              "    </tr>\n",
              "    <tr>\n",
              "      <th>22549</th>\n",
              "      <td>축제공연</td>\n",
              "      <td>박달 가요제 2020</td>\n",
              "      <td>27171</td>\n",
              "      <td>온라인개최(명동)</td>\n",
              "      <td>충청북도 제천시</td>\n",
              "      <td>37.136177</td>\n",
              "      <td>128.208483</td>\n",
              "    </tr>\n",
              "    <tr>\n",
              "      <th>22550</th>\n",
              "      <td>축제공연</td>\n",
              "      <td>괴산고추축제</td>\n",
              "      <td>28026</td>\n",
              "      <td>온라인개최\\n\\t\\t\\t</td>\n",
              "      <td>충청북도 괴산군</td>\n",
              "      <td>36.815381</td>\n",
              "      <td>127.786697</td>\n",
              "    </tr>\n",
              "    <tr>\n",
              "      <th>22551</th>\n",
              "      <td>축제공연</td>\n",
              "      <td>제천의병제 2020</td>\n",
              "      <td>27171</td>\n",
              "      <td>충청북도 제천시 봉양읍 공전리 476-1\\n\\t\\t\\t</td>\n",
              "      <td>충청북도 제천시</td>\n",
              "      <td>37.099079</td>\n",
              "      <td>128.086081</td>\n",
              "    </tr>\n",
              "  </tbody>\n",
              "</table>\n",
              "<p>22552 rows × 7 columns</p>\n",
              "</div>"
            ],
            "text/plain": [
              "       관광유형                명칭   우편번호  ...            도시         위도          경도\n",
              "0       관광지               쉰움산  25746  ...       강원도 동해시  37.455194  129.001569\n",
              "1       관광지             대진 등대  24703  ...       강원도 고성군  38.503780  128.428794\n",
              "2       관광지          감자꽃 스튜디오  25370  ...       강원도 평창군  37.368851  128.438881\n",
              "3       관광지          하평해변(강릉)  25435  ...       강원도 강릉시  37.844282  128.871922\n",
              "4       관광지            기미만세공원  25162  ...       강원도 홍천군  37.784525  128.146392\n",
              "...     ...               ...    ...  ...           ...        ...         ...\n",
              "22547  축제공연            청원생명축제  28107  ...  충청북도 청주시 청원구  36.733250  127.407383\n",
              "22548  축제공연  충주국제무예액션영화제 2020  27438  ...      충청북도 충주시  36.987880  127.905593\n",
              "22549  축제공연       박달 가요제 2020  27171  ...      충청북도 제천시  37.136177  128.208483\n",
              "22550  축제공연            괴산고추축제  28026  ...      충청북도 괴산군  36.815381  127.786697\n",
              "22551  축제공연        제천의병제 2020  27171  ...      충청북도 제천시  37.099079  128.086081\n",
              "\n",
              "[22552 rows x 7 columns]"
            ]
          },
          "metadata": {
            "tags": []
          },
          "execution_count": 26
        }
      ]
    },
    {
      "cell_type": "code",
      "metadata": {
        "id": "80TCRSo1nX0O"
      },
      "source": [
        "city_list = []\n",
        "for city in df[\"도시\"]:\n",
        "  if len(city.split()) > 2:\n",
        "    city_list.append(\" \".join(city.split()[0:2]))\n",
        "  else:\n",
        "    city_list.append(city)"
      ],
      "execution_count": 27,
      "outputs": []
    },
    {
      "cell_type": "code",
      "metadata": {
        "id": "II6dmjMBaLoV"
      },
      "source": [
        "city_df = pd.DataFrame(city_list)"
      ],
      "execution_count": 28,
      "outputs": []
    },
    {
      "cell_type": "code",
      "metadata": {
        "id": "Af_rbx1haZPw"
      },
      "source": [
        "city_df.columns = [\"시군구\"]"
      ],
      "execution_count": 29,
      "outputs": []
    },
    {
      "cell_type": "code",
      "metadata": {
        "colab": {
          "base_uri": "https://localhost:8080/"
        },
        "id": "5PEBpD7ycBxH",
        "outputId": "5281dd4c-5ad7-44be-9e79-5b8af69a7fd8"
      },
      "source": [
        "city_df.shape"
      ],
      "execution_count": 30,
      "outputs": [
        {
          "output_type": "execute_result",
          "data": {
            "text/plain": [
              "(22552, 1)"
            ]
          },
          "metadata": {
            "tags": []
          },
          "execution_count": 30
        }
      ]
    },
    {
      "cell_type": "code",
      "metadata": {
        "colab": {
          "base_uri": "https://localhost:8080/"
        },
        "id": "vKic0uK_dXU3",
        "outputId": "8a60a718-d57d-4f9f-a61f-0cd6a4c8d4d0"
      },
      "source": [
        "city_df[\"시군구\"].str.endswith((\"시\",\"군\", \"구\")).sum()"
      ],
      "execution_count": 32,
      "outputs": [
        {
          "output_type": "execute_result",
          "data": {
            "text/plain": [
              "22552"
            ]
          },
          "metadata": {
            "tags": []
          },
          "execution_count": 32
        }
      ]
    },
    {
      "cell_type": "code",
      "metadata": {
        "id": "4BiU_CEesxHd"
      },
      "source": [
        "df_total = pd.concat([df, city_df], axis=1)"
      ],
      "execution_count": 33,
      "outputs": []
    },
    {
      "cell_type": "code",
      "metadata": {
        "colab": {
          "base_uri": "https://localhost:8080/"
        },
        "id": "JjSgytfSjWSC",
        "outputId": "773a0622-cff0-4dd6-844d-0ce619df9327"
      },
      "source": [
        "df_total.columns"
      ],
      "execution_count": 34,
      "outputs": [
        {
          "output_type": "execute_result",
          "data": {
            "text/plain": [
              "Index(['관광유형', '명칭', '우편번호', '주소', '도시', '위도', '경도', '시군구'], dtype='object')"
            ]
          },
          "metadata": {
            "tags": []
          },
          "execution_count": 34
        }
      ]
    },
    {
      "cell_type": "code",
      "metadata": {
        "id": "2-BSjZOPjXao"
      },
      "source": [
        "df_total=df_total[['관광유형', '명칭', '우편번호', '주소', '도시', '시군구','위도', '경도']]"
      ],
      "execution_count": 36,
      "outputs": []
    },
    {
      "cell_type": "code",
      "metadata": {
        "id": "KgRCDvoDinoH"
      },
      "source": [
        "df_total.to_csv(\"/content/drive/MyDrive/dataset/city_spot.csv\",index=False)"
      ],
      "execution_count": 37,
      "outputs": []
    },
    {
      "cell_type": "code",
      "metadata": {
        "id": "RWGL981EjEl8"
      },
      "source": [
        ""
      ],
      "execution_count": null,
      "outputs": []
    }
  ]
}