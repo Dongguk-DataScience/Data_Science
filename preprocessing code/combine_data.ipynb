{
 "cells": [
  {
   "cell_type": "code",
   "execution_count": 26,
   "metadata": {
    "id": "YfDOCX8qXHf7"
   },
   "outputs": [],
   "source": [
    "import pandas as pd\n",
    "import numpy as np\n",
    "import os"
   ]
  },
  {
   "cell_type": "code",
   "execution_count": 27,
   "metadata": {
    "colab": {
     "base_uri": "https://localhost:8080/"
    },
    "id": "ACC-RfFAXYiJ",
    "outputId": "18939682-4a08-4bcb-9dad-5e5641675d34"
   },
   "outputs": [],
   "source": [
    "# from google.colab import drive\n",
    "# drive.mount('/content/drive')"
   ]
  },
  {
   "cell_type": "code",
   "execution_count": 28,
   "metadata": {
    "id": "MxieoGbjXeXo"
   },
   "outputs": [],
   "source": [
    "def file_path(path):\n",
    "  file_list = os.listdir(path)\n",
    "  return file_list"
   ]
  },
  {
   "cell_type": "code",
   "execution_count": 29,
   "metadata": {
    "id": "-5HOVwOCf9X1"
   },
   "outputs": [],
   "source": [
    "def into_one_excel(path, file_list, dict_name):\n",
    "  df_total = pd.DataFrame()\n",
    "  df_total[\"관광유형\"] = 0\n",
    "  for idx in range(len(file_list)):\n",
    "    file_name = file_list[idx]\n",
    "    df = pd.read_excel(path +'/' + dict_name + '/' + file_name)\n",
    "    df_total=pd.concat([df_total,df])\n",
    "\n",
    "\n",
    "  df_total[\"관광유형\"] = dict_name\n",
    "\n",
    "  return df_total"
   ]
  },
  {
   "cell_type": "code",
   "execution_count": 30,
   "metadata": {
    "colab": {
     "base_uri": "https://localhost:8080/"
    },
    "id": "zkGGh1clbJO4",
    "outputId": "2e2f0853-14ca-40c0-b162-16095b2e7c03"
   },
   "outputs": [
    {
     "name": "stdout",
     "output_type": "stream",
     "text": [
      "['강원', '경기', '경남', '경북', '광주', '대구', '대전', '부산', '세종', '울산', '인천', '전남', '전북', '제주', '충남', '충북']\n"
     ]
    }
   ],
   "source": [
    "path = '{typing your path}'\n",
    "\n",
    "main_list = file_path(path)\n",
    "\n",
    "print(main_list)"
   ]
  },
  {
   "cell_type": "code",
   "execution_count": 31,
   "metadata": {
    "colab": {
     "base_uri": "https://localhost:8080/"
    },
    "id": "haaBxFOHLala",
    "outputId": "632412df-9d69-4bad-d811-aae20397e080"
   },
   "outputs": [
    {
     "name": "stdout",
     "output_type": "stream",
     "text": [
      "['관광지', '레포츠', '문화시설', '쇼핑', '숙박', '여행코스', '음식점', '축제공연']\n"
     ]
    }
   ],
   "source": [
    "for main_name in main_list:\n",
    "  dict_list=file_path(path + '\\\\' + main_name)\n",
    "  \n",
    "print(dict_list)"
   ]
  },
  {
   "cell_type": "code",
   "execution_count": 32,
   "metadata": {
    "colab": {
     "base_uri": "https://localhost:8080/"
    },
    "id": "uC0T1a57uNrM",
    "outputId": "05a6dd6d-9f67-42a5-b8e2-313645b6d2ac"
   },
   "outputs": [],
   "source": [
    "df_total = pd.DataFrame()\n",
    "for main_name in main_list:\n",
    "  dict_list=file_path(path + '\\\\' + main_name)\n",
    "  for dict_name in dict_list:\n",
    "    file_list = file_path(path+'\\\\'+ main_name + '\\\\' + dict_name)\n",
    "    df_total = pd.concat([df_total,into_one_excel(path + '\\\\' + main_name, file_list, dict_name)])\n",
    "\n",
    "    "
   ]
  },
  {
   "cell_type": "code",
   "execution_count": 34,
   "metadata": {
    "id": "E1Us8CGzwP3p"
   },
   "outputs": [],
   "source": [
    "df_total=df_total.reset_index()\n",
    "df_total=df_total.drop([\"index\"],axis=\"columns\")"
   ]
  },
  {
   "cell_type": "code",
   "execution_count": 35,
   "metadata": {
    "colab": {
     "base_uri": "https://localhost:8080/"
    },
    "id": "7M78K8H9enrQ",
    "outputId": "d66f5832-a927-4981-b7d6-3e27f1c1627f"
   },
   "outputs": [
    {
     "data": {
      "text/plain": [
       "(24138, 93)"
      ]
     },
     "execution_count": 35,
     "metadata": {},
     "output_type": "execute_result"
    }
   ],
   "source": [
    "df_total.shape"
   ]
  },
  {
   "cell_type": "code",
   "execution_count": 36,
   "metadata": {
    "colab": {
     "base_uri": "https://localhost:8080/"
    },
    "id": "RKFGno3DLFrF",
    "outputId": "8b59d223-28a7-41d8-f12c-382d31165654"
   },
   "outputs": [
    {
     "data": {
      "text/plain": [
       "관광지       9646\n",
       "음식점       5273\n",
       "숙박        3200\n",
       "레포츠       2055\n",
       "문화시설      1545\n",
       "여행코스      1062\n",
       "쇼핑         776\n",
       "축제공연행사     449\n",
       "축제공연       132\n",
       "Name: 관광유형, dtype: int64"
      ]
     },
     "execution_count": 36,
     "metadata": {},
     "output_type": "execute_result"
    }
   ],
   "source": [
    "df_total[\"관광유형\"].value_counts()"
   ]
  },
  {
   "cell_type": "code",
   "execution_count": 41,
   "metadata": {
    "colab": {
     "base_uri": "https://localhost:8080/",
     "height": 322
    },
    "id": "P9sFGc0hpIz-",
    "outputId": "026e34c7-c7c7-4c83-f2b9-12f639d7bb7c"
   },
   "outputs": [],
   "source": [
    "df_total.to_csv(\"{type your path and name.csv}\",index=False, encoding =\"utf-8\")"
   ]
  },
  {
   "cell_type": "code",
   "execution_count": null,
   "metadata": {},
   "outputs": [],
   "source": []
  }
 ],
 "metadata": {
  "colab": {
   "collapsed_sections": [],
   "name": "Find_my_path.ipynb",
   "provenance": []
  },
  "kernelspec": {
   "display_name": "Python 3",
   "language": "python",
   "name": "python3"
  },
  "language_info": {
   "codemirror_mode": {
    "name": "ipython",
    "version": 3
   },
   "file_extension": ".py",
   "mimetype": "text/x-python",
   "name": "python",
   "nbconvert_exporter": "python",
   "pygments_lexer": "ipython3",
   "version": "3.9.5"
  }
 },
 "nbformat": 4,
 "nbformat_minor": 1
}
