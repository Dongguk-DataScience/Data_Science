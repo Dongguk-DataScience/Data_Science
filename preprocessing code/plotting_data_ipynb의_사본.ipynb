{
  "nbformat": 4,
  "nbformat_minor": 0,
  "metadata": {
    "colab": {
      "name": "plotting_data.ipynb의 사본",
      "private_outputs": true,
      "provenance": [],
      "collapsed_sections": []
    },
    "kernelspec": {
      "name": "python3",
      "display_name": "Python 3"
    },
    "language_info": {
      "name": "python"
    }
  },
  "cells": [
    {
      "cell_type": "code",
      "metadata": {
        "id": "2jHNF37KaA5M"
      },
      "source": [
        "!sudo apt-get install -y fonts-nanum\n",
        "!sudo fc-cache -fv\n",
        "!rm ~/.cache/matplotlib -rf"
      ],
      "execution_count": null,
      "outputs": []
    },
    {
      "cell_type": "code",
      "metadata": {
        "id": "tBqEo3exaZFH"
      },
      "source": [
        "import pandas as pd\n",
        "import numpy as np\n",
        "from tqdm import tqdm\n",
        "import os\n",
        "\n",
        "df_tour = pd.read_csv('https://raw.githubusercontent.com/Dongguk-DataScience/Data_Science/main/city_data/city_spot.csv')"
      ],
      "execution_count": null,
      "outputs": []
    },
    {
      "cell_type": "code",
      "metadata": {
        "id": "RNJwkt40az1I"
      },
      "source": [
        "df_visitor = pd.read_csv('https://raw.githubusercontent.com/Dongguk-DataScience/Data_Science/main/city_data/visitor_outside_city.csv',encoding='cp949')\n"
      ],
      "execution_count": null,
      "outputs": []
    },
    {
      "cell_type": "code",
      "metadata": {
        "id": "IHdUg-IDa-O1"
      },
      "source": [
        "df_visitor_list = df_visitor.sort_values(by=['2019'],axis=0, ascending = False)\n",
        "df_visitor_list.head(15)"
      ],
      "execution_count": null,
      "outputs": []
    },
    {
      "cell_type": "code",
      "metadata": {
        "id": "9rsYx8albO91"
      },
      "source": [
        "df_visitor_list.tail(16)\n",
        "#인천남구는 통계를 안함으로써 0이었으므로 제외하기로함!"
      ],
      "execution_count": null,
      "outputs": []
    },
    {
      "cell_type": "code",
      "metadata": {
        "id": "Zxxvgn7qbXDK"
      },
      "source": [
        "#head\n",
        "#수원시\n",
        "df_suwon = df_tour[df_tour['시군구'].str.contains('수원시')]\n"
      ],
      "execution_count": null,
      "outputs": []
    },
    {
      "cell_type": "code",
      "metadata": {
        "id": "Iw7O4PaAcQWI"
      },
      "source": [
        "df_suwon_type = df_suwon['관광유형'].value_counts()\n",
        " "
      ],
      "execution_count": null,
      "outputs": []
    },
    {
      "cell_type": "code",
      "metadata": {
        "id": "PphMak8EdU0i"
      },
      "source": [
        "#고양시\n",
        "df_goyang = df_tour[df_tour['시군구'].str.contains('고양시')]\n"
      ],
      "execution_count": null,
      "outputs": []
    },
    {
      "cell_type": "code",
      "metadata": {
        "id": "ctidIjJGta0V"
      },
      "source": [
        "df_goyang_type = df_goyang['관광유형'].value_counts()\n"
      ],
      "execution_count": null,
      "outputs": []
    },
    {
      "cell_type": "code",
      "metadata": {
        "id": "ZdENMgedsmYG"
      },
      "source": [
        "#인천 중구\n",
        "df_incheon_jung= df_tour[(df_tour['시군구'].str.contains('인천'))&(df_tour['시군구'].str.contains('중구'))]\n"
      ],
      "execution_count": null,
      "outputs": []
    },
    {
      "cell_type": "code",
      "metadata": {
        "id": "PmJUrlcasmSm"
      },
      "source": [
        "df_incheon_jung_type = df_incheon_jung['관광유형'].value_counts()\n"
      ],
      "execution_count": null,
      "outputs": []
    },
    {
      "cell_type": "code",
      "metadata": {
        "id": "KnRWUwhysmOq"
      },
      "source": [
        "#대구 중구\n",
        "df_daegu_jung= df_tour[(df_tour['시군구'].str.contains('대구'))&(df_tour['시군구'].str.contains('중구'))]\n"
      ],
      "execution_count": null,
      "outputs": []
    },
    {
      "cell_type": "code",
      "metadata": {
        "id": "VB5aViIpsmLB"
      },
      "source": [
        "df_daegu_jung_type = df_daegu_jung['관광유형'].value_counts()\n"
      ],
      "execution_count": null,
      "outputs": []
    },
    {
      "cell_type": "code",
      "metadata": {
        "id": "nrS19w4usmGS"
      },
      "source": [
        "#성남시\n",
        "df_seongnam = df_tour[df_tour['시군구'].str.contains('성남시')]\n"
      ],
      "execution_count": null,
      "outputs": []
    },
    {
      "cell_type": "code",
      "metadata": {
        "id": "kK1JOmOhsl_S"
      },
      "source": [
        "df_seongnam_type = df_seongnam['관광유형'].value_counts()\n"
      ],
      "execution_count": null,
      "outputs": []
    },
    {
      "cell_type": "code",
      "metadata": {
        "id": "NktTEsq5wtmP"
      },
      "source": [
        "#용인시\n",
        "df_yongin = df_tour[df_tour['시군구'].str.contains('용인시')]\n"
      ],
      "execution_count": null,
      "outputs": []
    },
    {
      "cell_type": "code",
      "metadata": {
        "id": "Cap2wIyMwtjw"
      },
      "source": [
        "df_yongin_type = df_yongin['관광유형'].value_counts()\n"
      ],
      "execution_count": null,
      "outputs": []
    },
    {
      "cell_type": "code",
      "metadata": {
        "id": "KMt9saePwthY"
      },
      "source": [
        "#전주시\n",
        "df_jeonju = df_tour[df_tour['시군구'].str.contains('전주시')]\n"
      ],
      "execution_count": null,
      "outputs": []
    },
    {
      "cell_type": "code",
      "metadata": {
        "id": "AVhHqePbwtfA"
      },
      "source": [
        "df_jeonju_type = df_jeonju['관광유형'].value_counts()\n"
      ],
      "execution_count": null,
      "outputs": []
    },
    {
      "cell_type": "code",
      "metadata": {
        "id": "MArK15b3wtdA"
      },
      "source": [
        "#부산진구\n",
        "df_busanjin = df_tour[df_tour['시군구'].str.contains('부산진구')]\n"
      ],
      "execution_count": null,
      "outputs": []
    },
    {
      "cell_type": "code",
      "metadata": {
        "id": "CWEhXqNOwtZ6"
      },
      "source": [
        "df_busanjin_type = df_busanjin['관광유형'].value_counts()\n"
      ],
      "execution_count": null,
      "outputs": []
    },
    {
      "cell_type": "code",
      "metadata": {
        "id": "7-EnBADPwtXd"
      },
      "source": [
        "#창원시\n",
        "df_changwon = df_tour[df_tour['시군구'].str.contains('창원시')]\n"
      ],
      "execution_count": null,
      "outputs": []
    },
    {
      "cell_type": "code",
      "metadata": {
        "id": "IXSh_2ELwtVE"
      },
      "source": [
        "df_changwon_type = df_busanjin['관광유형'].value_counts()\n",
        " "
      ],
      "execution_count": null,
      "outputs": []
    },
    {
      "cell_type": "code",
      "metadata": {
        "id": "gsYtpMx5wtSx"
      },
      "source": [
        "#청주시\n",
        "df_cheongju = df_tour[df_tour['시군구'].str.contains('청주시')]\n"
      ],
      "execution_count": null,
      "outputs": []
    },
    {
      "cell_type": "code",
      "metadata": {
        "id": "D2EOcnDewtQ7"
      },
      "source": [
        "df_cheongju_type = df_cheongju['관광유형'].value_counts()\n"
      ],
      "execution_count": null,
      "outputs": []
    },
    {
      "cell_type": "code",
      "metadata": {
        "id": "no9ybGKDwtN2"
      },
      "source": [
        "#안양시\n",
        "df_ahnyang = df_tour[df_tour['시군구'].str.contains('안양시')]\n"
      ],
      "execution_count": null,
      "outputs": []
    },
    {
      "cell_type": "code",
      "metadata": {
        "id": "6-7u7IpRwtLd"
      },
      "source": [
        "df_ahnyang_type = df_ahnyang['관광유형'].value_counts()\n"
      ],
      "execution_count": null,
      "outputs": []
    },
    {
      "cell_type": "code",
      "metadata": {
        "id": "7zb7k36DwtI3"
      },
      "source": [
        "#부천시\n",
        "df_bucheon = df_tour[df_tour['시군구'].str.contains('부천시')]\n"
      ],
      "execution_count": null,
      "outputs": []
    },
    {
      "cell_type": "code",
      "metadata": {
        "id": "mriDQ9DWwtFu"
      },
      "source": [
        "df_bucheon_type = df_bucheon['관광유형'].value_counts()\n",
        " "
      ],
      "execution_count": null,
      "outputs": []
    },
    {
      "cell_type": "code",
      "metadata": {
        "id": "oudJCO4gsl3I"
      },
      "source": [
        "#group3\n",
        "#화성\n",
        "df_hwaseong = df_tour[df_tour['시군구'].str.contains('화성시')]\n"
      ],
      "execution_count": null,
      "outputs": []
    },
    {
      "cell_type": "code",
      "metadata": {
        "id": "jdHSo_hc_6BG"
      },
      "source": [
        "df_hwaseong_type = df_hwaseong['관광유형'].value_counts()\n"
      ],
      "execution_count": null,
      "outputs": []
    },
    {
      "cell_type": "code",
      "metadata": {
        "id": "-Z8Uc1sQ_5-q"
      },
      "source": [
        "#천안\n",
        "df_cheonahn = df_tour[df_tour['시군구'].str.contains('천안시')]\n"
      ],
      "execution_count": null,
      "outputs": []
    },
    {
      "cell_type": "code",
      "metadata": {
        "id": "kpUFzfcv_58N"
      },
      "source": [
        "df_cheonahn_type = df_cheonahn['관광유형'].value_counts()\n",
        " "
      ],
      "execution_count": null,
      "outputs": []
    },
    {
      "cell_type": "code",
      "metadata": {
        "id": "fXnOoeYb_56C"
      },
      "source": [
        "#안산\n",
        "df_ansan = df_tour[df_tour['시군구'].str.contains('안산시')]\n"
      ],
      "execution_count": null,
      "outputs": []
    },
    {
      "cell_type": "code",
      "metadata": {
        "id": "0_GqlWJ__53c"
      },
      "source": [
        "df_ansan_type = df_ansan['관광유형'].value_counts()\n"
      ],
      "execution_count": null,
      "outputs": []
    },
    {
      "cell_type": "code",
      "metadata": {
        "id": "rbYD8VEwtqtP"
      },
      "source": [
        "bar_width = 0.15\n",
        "\n",
        "fig = plt.figure(figsize=(10,10))\n",
        "fig.set_facecolor('white')\n",
        "line = df_suwon_type.index\n",
        "\n",
        "\n",
        "plt.plot(line, df_suwon_type,'o',label='수원시-1위')\n",
        "plt.plot(df_goyang_type.index, df_goyang_type,'*',label = '고양시-2위')\n",
        "plt.plot(df_incheon_jung_type.index, df_incheon_jung_type,'^',label = '인천 중구-14위')\n",
        "plt.plot(df_daegu_jung_type.index, df_daegu_jung_type,'>',label = '대구 중구-15위')\n",
        "\n",
        "plt.xlabel('관광유형')\n",
        "plt.ylabel('개수')\n",
        "plt.legend()\n",
        "plt.title('1위,2위,14위,15위 인프라')\n",
        "\n",
        "\n",
        "plt.show()\n"
      ],
      "execution_count": null,
      "outputs": []
    },
    {
      "cell_type": "code",
      "metadata": {
        "id": "eb5kqYjq_OtU"
      },
      "source": [
        ""
      ],
      "execution_count": null,
      "outputs": []
    },
    {
      "cell_type": "code",
      "metadata": {
        "id": "-57gpTpyqsJY"
      },
      "source": [
        "#성남, 용인, 전주, 부산진구\n",
        "\n",
        "fig = plt.figure(figsize=(10,10))\n",
        "fig.set_facecolor('white')\n",
        "\n",
        "plt.plot(df_seongnam_type.index, df_seongnam_type,'o',label='성남시-3위')\n",
        "plt.plot(df_yongin_type.index, df_yongin_type,'o',label = '용인시-4위')\n",
        "plt.plot(df_jeonju_type.index, df_jeonju_type,'o',label = '전주시-12위')\n",
        "plt.plot(df_busanjin_type.index, df_busanjin_type,'o',label = '부산진구-13위')\n",
        "\n",
        "plt.xlabel('관광유형')\n",
        "plt.ylabel('개수')\n",
        "plt.legend()\n",
        "plt.title('3위,4위,12위,13위 인프라')\n",
        "#fig.tight_layout\n",
        "\n",
        "plt.show()\n"
      ],
      "execution_count": null,
      "outputs": []
    },
    {
      "cell_type": "code",
      "metadata": {
        "id": "5IEHN-mwt8Lx"
      },
      "source": [
        "#창원 청주 안양 부천 5 6 10 11\n",
        "\n",
        "fig = plt.figure(figsize=(10,10))\n",
        "fig.set_facecolor('white')\n",
        "\n",
        "plt.plot(df_changwon_type.index, df_changwon_type,'o',label='창원시-5위')\n",
        "plt.plot(df_cheongju_type.index, df_cheongju_type,'*',label = '청주시-6위')\n",
        "plt.plot(df_cheongju_type.index, df_cheongju_type,'^',label = '안양시-10위')\n",
        "plt.plot(df_cheongju_type.index, df_cheongju_type,'x',label = '부천시-11위')\n",
        "\n",
        "plt.xlabel('관광유형')\n",
        "plt.ylabel('개수')\n",
        "plt.legend()\n",
        "plt.title('5위,6위,10위,11위 인프라')\n",
        "#fig.tight_layout\n",
        "\n",
        "plt.show()"
      ],
      "execution_count": null,
      "outputs": []
    },
    {
      "cell_type": "code",
      "metadata": {
        "id": "r7BVhurX9ane"
      },
      "source": [
        "#화성 천안 안산 7 8 9\n",
        "fig = plt.figure(figsize=(10,10))\n",
        "fig.set_facecolor('white')\n",
        "\n",
        "plt.plot(df_hwaseong_type.index, df_hwaseong_type,'o',label='화성시-7위')\n",
        "plt.plot(df_cheonahn_type.index, df_cheonahn_type,'*',label = '천안시-8위')\n",
        "plt.plot(df_ansan_type.index, df_ansan_type,'^',label = '안산시-9위')\n",
        "#plt.plot(df_cheongju_type.index, df_cheongju_type,'o',label = '부천시-11위')\n",
        "\n",
        "plt.xlabel('관광유형')\n",
        "plt.ylabel('개수')\n",
        "plt.legend()\n",
        "plt.title('7위, 8위, 9위 인프라')\n",
        "#fig.tight_layout\n",
        "\n",
        "plt.show()"
      ],
      "execution_count": null,
      "outputs": []
    },
    {
      "cell_type": "code",
      "metadata": {
        "id": "RMaEaWc19m0T"
      },
      "source": [
        "#####\n",
        "#tail\n",
        "#1,2,14 15 -> 곡성군, 화천군, 울릉군, 영양군\n",
        "#3,4,12,13-> 청송군, 계룡시, 양구군, 장수군\n",
        "#5,6,10,11-> 장흥군, 청양군, 봉화군, 의령군\n",
        "#7,8,9->진안군, 순창군, 진도군"
      ],
      "execution_count": null,
      "outputs": []
    },
    {
      "cell_type": "code",
      "metadata": {
        "id": "yU5DV8QQD8my"
      },
      "source": [
        "#group 1\n",
        "#곡성군\n",
        "df_gokseong = df_tour[df_tour['시군구'].str.contains('곡성군')]\n"
      ],
      "execution_count": null,
      "outputs": []
    },
    {
      "cell_type": "code",
      "metadata": {
        "id": "macsI2UqHhpi"
      },
      "source": [
        "df_gokseong_type = df_gokseong['관광유형'].value_counts()\n"
      ],
      "execution_count": null,
      "outputs": []
    },
    {
      "cell_type": "code",
      "metadata": {
        "id": "d1IRwAlsHhnf"
      },
      "source": [
        "#화천군\n",
        "df_hwacheon = df_tour[df_tour['시군구'].str.contains('화천군')]\n"
      ],
      "execution_count": null,
      "outputs": []
    },
    {
      "cell_type": "code",
      "metadata": {
        "id": "AOy1QcZ1Hhlt"
      },
      "source": [
        "df_hwacheon_type = df_hwacheon['관광유형'].value_counts()\n"
      ],
      "execution_count": null,
      "outputs": []
    },
    {
      "cell_type": "code",
      "metadata": {
        "id": "2RHo9-RFHhif"
      },
      "source": [
        "#울릉군\n",
        "df_ulleung = df_tour[df_tour['시군구'].str.contains('울릉군')]\n"
      ],
      "execution_count": null,
      "outputs": []
    },
    {
      "cell_type": "code",
      "metadata": {
        "id": "Ukxe22JyHhgJ"
      },
      "source": [
        "df_ulleung_type = df_ulleung['관광유형'].value_counts()\n"
      ],
      "execution_count": null,
      "outputs": []
    },
    {
      "cell_type": "code",
      "metadata": {
        "id": "TAcKtH5nHhdp"
      },
      "source": [
        "#영양군\n",
        "df_yeongyang = df_tour[df_tour['시군구'].str.contains('영양군')]\n"
      ],
      "execution_count": null,
      "outputs": []
    },
    {
      "cell_type": "code",
      "metadata": {
        "id": "0wJcfzcNHhbC"
      },
      "source": [
        "df_yeongyang_type = df_yeongyang['관광유형'].value_counts()\n",
        " "
      ],
      "execution_count": null,
      "outputs": []
    },
    {
      "cell_type": "code",
      "metadata": {
        "id": "6kuieytMHhZN"
      },
      "source": [
        "#group2\n",
        "#청송군\n",
        "df_cheongsong = df_tour[df_tour['시군구'].str.contains('청송군')]\n"
      ],
      "execution_count": null,
      "outputs": []
    },
    {
      "cell_type": "code",
      "metadata": {
        "id": "TwBvpTCpHhWH"
      },
      "source": [
        "df_cheongsong_type = df_cheongsong['관광유형'].value_counts()\n",
        " "
      ],
      "execution_count": null,
      "outputs": []
    },
    {
      "cell_type": "code",
      "metadata": {
        "id": "skIB4FCGHhTY"
      },
      "source": [
        "#계룡시\n",
        "df_gyeryong = df_tour[df_tour['시군구'].str.contains('계룡시')]\n"
      ],
      "execution_count": null,
      "outputs": []
    },
    {
      "cell_type": "code",
      "metadata": {
        "id": "GjXMApAzHhRH"
      },
      "source": [
        "df_gyeryong_type = df_gyeryong['관광유형'].value_counts()\n"
      ],
      "execution_count": null,
      "outputs": []
    },
    {
      "cell_type": "code",
      "metadata": {
        "id": "2GeowTDGHhOv"
      },
      "source": [
        "#양구군\n",
        "df_yanggu = df_tour[df_tour['시군구'].str.contains('양구군')]\n"
      ],
      "execution_count": null,
      "outputs": []
    },
    {
      "cell_type": "code",
      "metadata": {
        "id": "9AaEbAILHhMW"
      },
      "source": [
        "df_yanggu_type = df_yanggu['관광유형'].value_counts()\n"
      ],
      "execution_count": null,
      "outputs": []
    },
    {
      "cell_type": "code",
      "metadata": {
        "id": "csAqPVBDHhJt"
      },
      "source": [
        "#장수군\n",
        "df_jangsu = df_tour[df_tour['시군구'].str.contains('장수군')]\n"
      ],
      "execution_count": null,
      "outputs": []
    },
    {
      "cell_type": "code",
      "metadata": {
        "id": "6WQiUkFGHhHY"
      },
      "source": [
        "df_jangsu_type = df_jangsu['관광유형'].value_counts()\n"
      ],
      "execution_count": null,
      "outputs": []
    },
    {
      "cell_type": "code",
      "metadata": {
        "id": "rMH-huP0HhE7"
      },
      "source": [
        "#group3 장흥군, 청양군, 봉화군, 의령군\n",
        "#장흥군\n",
        "df_jangheung = df_tour[df_tour['시군구'].str.contains('장흥군')]\n"
      ],
      "execution_count": null,
      "outputs": []
    },
    {
      "cell_type": "code",
      "metadata": {
        "id": "pCFKA1lOHhCi"
      },
      "source": [
        "df_jangheung_type = df_jangheung['관광유형'].value_counts()\n",
        " "
      ],
      "execution_count": null,
      "outputs": []
    },
    {
      "cell_type": "code",
      "metadata": {
        "id": "qAXHXmJdHg_6"
      },
      "source": [
        "#청양군\n",
        "df_cheongyang = df_tour[df_tour['시군구'].str.contains('청양군')]\n"
      ],
      "execution_count": null,
      "outputs": []
    },
    {
      "cell_type": "code",
      "metadata": {
        "id": "TXXnrYUkH16e"
      },
      "source": [
        "df_cheongyang_type = df_cheongyang['관광유형'].value_counts()\n"
      ],
      "execution_count": null,
      "outputs": []
    },
    {
      "cell_type": "code",
      "metadata": {
        "id": "FTR74y-WH121"
      },
      "source": [
        "#봉화군\n",
        "df_bonghwa = df_tour[df_tour['시군구'].str.contains('봉화군')]"
      ],
      "execution_count": null,
      "outputs": []
    },
    {
      "cell_type": "code",
      "metadata": {
        "id": "twI6sbkrH1zM"
      },
      "source": [
        "df_bonghwa_type = df_bonghwa['관광유형'].value_counts()\n",
        " "
      ],
      "execution_count": null,
      "outputs": []
    },
    {
      "cell_type": "code",
      "metadata": {
        "id": "70R8sY2lH1ue"
      },
      "source": [
        "#의령군\n",
        "df_uiryeong = df_tour[df_tour['시군구'].str.contains('의령군')]\n"
      ],
      "execution_count": null,
      "outputs": []
    },
    {
      "cell_type": "code",
      "metadata": {
        "id": "mO2byrovH4lk"
      },
      "source": [
        "df_uiryeong_type = df_uiryeong['관광유형'].value_counts()\n"
      ],
      "execution_count": null,
      "outputs": []
    },
    {
      "cell_type": "code",
      "metadata": {
        "id": "Qkfe1QXpH4i7"
      },
      "source": [
        "#group4 진안군, 순창군, 진도군\n",
        "#진안군\n",
        "df_jinan = df_tour[df_tour['시군구'].str.contains('진안군')]\n"
      ],
      "execution_count": null,
      "outputs": []
    },
    {
      "cell_type": "code",
      "metadata": {
        "id": "jUgd3mgBH4ga"
      },
      "source": [
        "df_jinan_type = df_jinan['관광유형'].value_counts()\n"
      ],
      "execution_count": null,
      "outputs": []
    },
    {
      "cell_type": "code",
      "metadata": {
        "id": "Byev69IwH4eT"
      },
      "source": [
        "#순창군"
      ],
      "execution_count": null,
      "outputs": []
    },
    {
      "cell_type": "code",
      "metadata": {
        "id": "224iP7fJH4bm"
      },
      "source": [
        "df_sunchang = df_tour[df_tour['시군구'].str.contains('순창군')]\n"
      ],
      "execution_count": null,
      "outputs": []
    },
    {
      "cell_type": "code",
      "metadata": {
        "id": "uLVcJkpbKlYs"
      },
      "source": [
        "df_sunchang_type = df_sunchang['관광유형'].value_counts()\n"
      ],
      "execution_count": null,
      "outputs": []
    },
    {
      "cell_type": "code",
      "metadata": {
        "id": "A0HI8SNrH4ZC"
      },
      "source": [
        "#진도군\n",
        "df_jindo = df_tour[df_tour['시군구'].str.contains('진도군')]\n"
      ],
      "execution_count": null,
      "outputs": []
    },
    {
      "cell_type": "code",
      "metadata": {
        "id": "OhcpDw3vH4Wx"
      },
      "source": [
        "df_jindo_type = df_jindo['관광유형'].value_counts()\n",
        " "
      ],
      "execution_count": null,
      "outputs": []
    },
    {
      "cell_type": "code",
      "metadata": {
        "id": "Y0lXK1OsH4UD"
      },
      "source": [
        "#1,2,14 15 -> 곡성군, 화천군, 울릉군, 영양군\n",
        "#3,4,12,13-> 청송군, 계룡시, 양구군, 장수군\n",
        "#5,6,10,11-> 장흥군, 청양군, 봉화군, 의령군\n",
        "#7,8,9->진안군, 순창군, 진도군\n",
        "\n",
        "fig = plt.figure(figsize=(10,10))\n",
        "fig.set_facecolor('white')\n",
        "\n",
        "plt.plot(df_gokseong_type.index, df_gokseong_type,'o',label='곡성군')\n",
        "plt.plot(df_hwacheon_type.index, df_hwacheon_type,'*',label = '화천군')\n",
        "plt.plot(df_ulleung_type.index, df_ulleung_type,'^',label = '울릉군')\n",
        "plt.plot(df_yeongyang_type.index, df_yeongyang_type,'x',label = '영양군')\n",
        "\n",
        "plt.xlabel('관광유형')\n",
        "plt.ylabel('개수')\n",
        "plt.legend()\n",
        "plt.title('곡성군, 화천군, 울릉군, 영양군 인프라')\n",
        "#fig.tight_layout\n",
        "\n",
        "plt.show()"
      ],
      "execution_count": null,
      "outputs": []
    },
    {
      "cell_type": "code",
      "metadata": {
        "id": "PTLjshZiH4Rb"
      },
      "source": [
        "#3,4,12,13-> 청송군, 계룡시, 양구군, 장수군\n",
        "\n",
        "fig = plt.figure(figsize=(10,10))\n",
        "fig.set_facecolor('white')\n",
        "\n",
        "plt.plot(df_cheongsong_type.index, df_cheongsong_type,'o',label='청송군')\n",
        "plt.plot(df_gyeryong_type.index, df_gyeryong_type,'*',label = '계룡시')\n",
        "plt.plot(df_yanggu_type.index, df_yanggu_type,'^',label = '양구군')\n",
        "plt.plot(df_jangsu_type.index, df_jangsu_type,'x',label = '장수군')\n",
        "\n",
        "plt.xlabel('관광유형')\n",
        "plt.ylabel('개수')\n",
        "plt.legend()\n",
        "plt.title('청송군, 계룡시, 양구군, 장수군 인프라')\n",
        "#fig.tight_layout\n",
        "\n",
        "plt.show()"
      ],
      "execution_count": null,
      "outputs": []
    },
    {
      "cell_type": "code",
      "metadata": {
        "id": "1LK-IiBbH4Oo"
      },
      "source": [
        "#5,6,10,11-> 장흥군, 청양군, 봉화군, 의령군\n",
        "fig = plt.figure(figsize=(10,10))\n",
        "fig.set_facecolor('white')\n",
        "\n",
        "plt.plot(df_jangheung_type.index, df_jangheung_type,'o',label='장흥군')\n",
        "plt.plot(df_cheongyang_type.index, df_cheongyang_type,'*',label = '청양군')\n",
        "plt.plot(df_bonghwa_type.index, df_bonghwa_type,'^',label = '봉화군')\n",
        "plt.plot(df_uiryeong_type.index, df_uiryeong_type,'x',label = '의령군')\n",
        "\n",
        "plt.xlabel('관광유형')\n",
        "plt.ylabel('개수')\n",
        "plt.legend()\n",
        "plt.title('장흥군, 청양군, 봉화군, 의령군 인프라')\n",
        "#fig.tight_layout\n",
        "\n",
        "plt.show()"
      ],
      "execution_count": null,
      "outputs": []
    },
    {
      "cell_type": "code",
      "metadata": {
        "id": "f5a4wXxEH4Kc"
      },
      "source": [
        "#7,8,9->진안군, 순창군, 진도군\n",
        "fig = plt.figure(figsize=(10,10))\n",
        "fig.set_facecolor('white')\n",
        "\n",
        "plt.plot(df_jinan_type.index, df_jinan_type,'o',label='진안군')\n",
        "plt.plot(df_sunchang_type.index, df_sunchang_type,'*',label = '순창군')\n",
        "plt.plot(df_jindo_type.index, df_jindo_type,'^',label = '진도군')\n",
        "\n",
        "plt.xlabel('관광유형')\n",
        "plt.ylabel('개수')\n",
        "plt.legend()\n",
        "plt.title('진안군, 순창군, 진도군 인프라')\n",
        "#fig.tight_layout\n",
        "\n",
        "plt.show()"
      ],
      "execution_count": null,
      "outputs": []
    },
    {
      "cell_type": "code",
      "metadata": {
        "id": "Z6X4RGmBH4Ee"
      },
      "source": [
        "#head와 tail의 비교-> 수원시, 대구 중구, 곡성군, 영양군\n",
        "\n",
        "fig = plt.figure(figsize=(10,10))\n",
        "fig.set_facecolor('white')\n",
        "\n",
        "plt.plot(df_suwon_type.index, df_suwon_type,'o',label='수원시')\n",
        "plt.plot(df_daegu_jung_type.index, df_daegu_jung_type,'*',label = '대구 중구')\n",
        "plt.plot(df_gokseong_type.index, df_gokseong_type,'^',label = '곡성군')\n",
        "plt.plot(df_yeongyang_type.index, df_yeongyang_type,'x',label = '영양군')\n",
        "\n",
        "plt.xlabel('관광유형')\n",
        "plt.ylabel('개수')\n",
        "plt.legend()\n",
        "plt.title('상위권과 하위권 인프라 분석')\n",
        "#fig.tight_layout\n",
        "\n",
        "plt.show()\n",
        "\n",
        "# 문화시설과 숙박, 음식점의 수가 외부방문자를 늘렸다는 결과!"
      ],
      "execution_count": null,
      "outputs": []
    },
    {
      "cell_type": "code",
      "metadata": {
        "id": "RUBhBTqSvCdv"
      },
      "source": [
        "fig = plt.figure(figsize=(20,20))\n",
        "fig.set_facecolor('white')\n",
        "\n",
        "# plt.plot(df_suwon_type.index, df_suwon_type,'o',label='수원시')\n",
        "# plt.plot(df_daegu_jung_type.index, df_daegu_jung_type,'*',label = '대구 중구')\n",
        "# plt.plot(df_gokseong_type.index, df_gokseong_type,'^',label = '곡성군')\n",
        "# plt.plot(df_yeongyang_type.index, df_yeongyang_type,'x',label = '영양군')\n",
        "\n",
        "# plt.xlabel('관광유형')\n",
        "# plt.ylabel('개수')\n",
        "# plt.legend()\n",
        "# plt.title('상위권과 하위권 인프라 분석')\n",
        "# #fig.tight_layout\n",
        "\n",
        "# plt.show()\n",
        "#fig, ax = plt.subplot(nrows=5, ncols=3)\n",
        "# ax[0,0].plot(df_suwon_type.index, df_suwon_type,'o',label='수원시')\n",
        "# ax[0,1].plot()\n",
        "#plt.barh(df_suwon_type.index, df_suwon_type,label='수원시')\n",
        "plt.subplot(3,5,1)\n",
        "#plt.xlabel('수')\n",
        "plt.ylabel('인프라')\n",
        "plt.xticks(rotation='60')\n",
        "plt.title('수원시')\n",
        "plt.bar(df_suwon_type.index, df_suwon_type,label='수원시')\n",
        "\n",
        "plt.subplot(3,5,2)\n",
        "#plt.xlabel('수')\n",
        "plt.ylabel('인프라')\n",
        "plt.title('고양시')\n",
        "plt.xticks(rotation='60')\n",
        "plt.bar(df_goyang_type.index, df_goyang_type)\n",
        "\n",
        "plt.subplot(3,5,3)\n",
        "#plt.xlabel('수')\n",
        "plt.ylabel('인프라')\n",
        "plt.title('성남시')\n",
        "plt.xticks(rotation='60')\n",
        "plt.bar(df_seongnam_type.index, df_seongnam_type)\n",
        "\n",
        "plt.subplot(3,5,4)\n",
        "#plt.xlabel('수')\n",
        "plt.ylabel('인프라')\n",
        "plt.title('용인시')\n",
        "plt.xticks(rotation='60')\n",
        "plt.bar(df_yongin_type.index, df_yongin_type)\n",
        "\n",
        "plt.subplot(3,5,5)\n",
        "#plt.xlabel('수')\n",
        "plt.ylabel('인프라')\n",
        "plt.title('창원시')\n",
        "plt.xticks(rotation='60')\n",
        "plt.bar(df_changwon_type.index, df_changwon_type)\n",
        "\n",
        "plt.subplot(3,5,6)\n",
        "#plt.xlabel('수')\n",
        "plt.ylabel('인프라')\n",
        "plt.title('청주시')\n",
        "plt.xticks(rotation='60')\n",
        "plt.bar(df_cheongju_type.index, df_cheongju_type)\n",
        "\n",
        "plt.subplot(3,5,7)\n",
        "#plt.xlabel('수')\n",
        "plt.ylabel('인프라')\n",
        "plt.title('화성시')\n",
        "plt.xticks(rotation='60')\n",
        "plt.bar(df_hwaseong_type.index, df_hwaseong_type)\n",
        "\n",
        "plt.subplot(3,5,8)\n",
        "#plt.xlabel('수')\n",
        "plt.ylabel('인프라')\n",
        "plt.title('천안시')\n",
        "plt.xticks(rotation='60')\n",
        "plt.bar(df_cheonahn_type.index, df_cheonahn_type)\n",
        "\n",
        "plt.subplot(3,5,9)\n",
        "#plt.xlabel('수')\n",
        "plt.ylabel('인프라')\n",
        "plt.title('안산시')\n",
        "plt.xticks(rotation='60')\n",
        "plt.bar(df_ansan_type.index, df_ansan_type)\n",
        "\n",
        "plt.subplot(3,5,10)\n",
        "#plt.xlabel('수')\n",
        "plt.ylabel('인프라')\n",
        "plt.title('안양시')\n",
        "plt.xticks(rotation='60')\n",
        "plt.bar(df_ahnyang_type.index, df_ahnyang_type)\n",
        "\n",
        "plt.subplot(3,5,11)\n",
        "#plt.xlabel('수')\n",
        "plt.ylabel('인프라')\n",
        "plt.title('부천시')\n",
        "plt.xticks(rotation='60')\n",
        "plt.bar(df_bucheon_type.index, df_bucheon_type)\n",
        "\n",
        "plt.subplot(3,5,12)\n",
        "#plt.xlabel('수')\n",
        "plt.ylabel('인프라')\n",
        "plt.title('전주시')\n",
        "plt.xticks(rotation='60')\n",
        "plt.bar(df_jeonju_type.index, df_jeonju_type)\n",
        "\n",
        "plt.subplot(3,5,13)\n",
        "#plt.xlabel('수')\n",
        "plt.ylabel('인프라')\n",
        "plt.title('부산진구')\n",
        "plt.xticks(rotation='60')\n",
        "plt.bar(df_busanjin_type.index, df_busanjin_type)\n",
        "\n",
        "plt.subplot(3,5,14)\n",
        "#plt.xlabel('수')\n",
        "plt.ylabel('인프라')\n",
        "plt.title('인천 중구')\n",
        "plt.xticks(rotation='60')\n",
        "plt.bar(df_incheon_jung_type.index, df_incheon_jung_type)\n",
        "\n",
        "plt.subplot(3,5,15)\n",
        "#plt.xlabel('수')\n",
        "plt.ylabel('인프라')\n",
        "plt.title('대구 중구')\n",
        "plt.xticks(rotation='60')\n",
        "plt.bar(df_daegu_jung_type.index, df_daegu_jung_type)"
      ],
      "execution_count": null,
      "outputs": []
    },
    {
      "cell_type": "code",
      "metadata": {
        "id": "zqrWJGwCvCbH"
      },
      "source": [
        "fig = plt.figure(figsize=(20,20))\n",
        "fig.set_facecolor('white')\n",
        "\n",
        "plt.subplot(3,5,1)\n",
        "#plt.xlabel('수')\n",
        "plt.ylabel('인프라')\n",
        "plt.xticks(rotation='60')\n",
        "plt.title('곡성군')\n",
        "plt.bar(df_gokseong_type.index, df_gokseong_type)\n",
        "\n",
        "plt.subplot(3,5,2)\n",
        "#plt.xlabel('수')\n",
        "plt.ylabel('인프라')\n",
        "plt.title('화천군')\n",
        "plt.xticks(rotation='60')\n",
        "plt.bar(df_hwacheon_type.index, df_hwacheon_type)\n",
        "\n",
        "plt.subplot(3,5,3)\n",
        "#plt.xlabel('수')\n",
        "plt.ylabel('인프라')\n",
        "plt.title('청송군')\n",
        "plt.xticks(rotation='60')\n",
        "plt.bar(df_cheongsong_type.index, df_cheongsong_type)\n",
        "\n",
        "plt.subplot(3,5,4)\n",
        "#plt.xlabel('수')\n",
        "plt.ylabel('인프라')\n",
        "plt.title('계룡시')\n",
        "plt.xticks(rotation='60')\n",
        "plt.bar(df_gyeryong_type.index, df_gyeryong_type)\n",
        "\n",
        "plt.subplot(3,5,5)\n",
        "#plt.xlabel('수')\n",
        "plt.ylabel('인프라')\n",
        "plt.title('장흥군')\n",
        "plt.xticks(rotation='60')\n",
        "plt.bar(df_jangheung_type.index, df_jangheung_type)\n",
        "\n",
        "plt.subplot(3,5,6)\n",
        "#plt.xlabel('수')\n",
        "plt.ylabel('인프라')\n",
        "plt.title('청양군')\n",
        "plt.xticks(rotation='60')\n",
        "plt.bar(df_cheongyang_type.index, df_cheongyang_type)\n",
        "\n",
        "plt.subplot(3,5,7)\n",
        "#plt.xlabel('수')\n",
        "plt.ylabel('인프라')\n",
        "plt.title('진안군')\n",
        "plt.xticks(rotation='60')\n",
        "plt.bar(df_jinan_type.index, df_jinan_type)\n",
        "\n",
        "plt.subplot(3,5,8)\n",
        "#plt.xlabel('수')\n",
        "plt.ylabel('인프라')\n",
        "plt.title('순창군')\n",
        "plt.xticks(rotation='60')\n",
        "plt.bar(df_sunchang_type.index, df_sunchang_type)\n",
        "\n",
        "plt.subplot(3,5,9)\n",
        "#plt.xlabel('수')\n",
        "plt.ylabel('인프라')\n",
        "plt.title('진도군')\n",
        "plt.xticks(rotation='60')\n",
        "plt.bar(df_jindo_type.index, df_jindo_type)\n",
        "\n",
        "plt.subplot(3,5,10)\n",
        "#lt.xlabel('수')\n",
        "plt.ylabel('인프라')\n",
        "plt.title('봉화군')\n",
        "plt.xticks(rotation='60')\n",
        "plt.bar(df_bonghwa_type.index, df_bonghwa_type)\n",
        "\n",
        "plt.subplot(3,5,11)\n",
        "#plt.xlabel('수')\n",
        "plt.ylabel('인프라')\n",
        "plt.title('의령군')\n",
        "plt.xticks(rotation='60')\n",
        "plt.bar(df_uiryeong_type.index, df_uiryeong_type)\n",
        "\n",
        "plt.subplot(3,5,12)\n",
        "#plt.xlabel('수')\n",
        "plt.ylabel('인프라')\n",
        "plt.title('양구군')\n",
        "plt.xticks(rotation='60')\n",
        "plt.bar(df_yanggu_type.index, df_yanggu_type)\n",
        "\n",
        "plt.subplot(3,5,13)\n",
        "#plt.xlabel('수')\n",
        "plt.ylabel('인프라')\n",
        "plt.title('장수군')\n",
        "plt.xticks(rotation='60')\n",
        "plt.bar(df_jangsu_type.index, df_jangsu_type)\n",
        "\n",
        "plt.subplot(3,5,14)\n",
        "#plt.xlabel('수')\n",
        "plt.ylabel('인프라')\n",
        "plt.title('울릉군')\n",
        "plt.xticks(rotation='60')\n",
        "plt.bar(df_ulleung_type.index, df_ulleung_type)\n",
        "\n",
        "plt.subplot(3,5,15)\n",
        "#plt.xlabel('수')\n",
        "plt.ylabel('인프라')\n",
        "plt.title('영양군')\n",
        "plt.xticks(rotation='60')\n",
        "plt.bar(df_yeongyang_type.index, df_yeongyang_type)"
      ],
      "execution_count": null,
      "outputs": []
    },
    {
      "cell_type": "code",
      "metadata": {
        "id": "Q3A8UPQMhrtd"
      },
      "source": [
        ""
      ],
      "execution_count": null,
      "outputs": []
    }
  ]
}